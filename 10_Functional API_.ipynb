{
 "cells": [
  {
   "cell_type": "markdown",
   "metadata": {
    "slideshow": {
     "slide_type": "slide"
    }
   },
   "source": [
    "# \\_\\_call\\_\\_() magic method\n",
    "- 객체를 함수처럼 호출 할 수 있도록 한다.\n",
    "- `객체()` 로 호출 할 때 __call__ 메소드가 호출되어 실행된다."
   ]
  },
  {
   "cell_type": "code",
   "execution_count": 7,
   "metadata": {
    "ExecuteTime": {
     "end_time": "2023-03-02T07:22:32.793217Z",
     "start_time": "2023-03-02T07:22:32.778027Z"
    }
   },
   "outputs": [],
   "source": [
    "class Person:\n",
    "    def __init__(self, name):\n",
    "        self.name = name\n",
    "        \n",
    "    def __call__(self, age):\n",
    "        print(f'이름: {self.name}, 나이: {age}')  # age: 매개변수로 받은값. name: 객체의 attribute\n",
    "        return f'이름: {self.name}, 나이: {age} - 문자열'  #return value"
   ]
  },
  {
   "cell_type": "code",
   "execution_count": 8,
   "metadata": {
    "ExecuteTime": {
     "end_time": "2023-03-02T07:22:39.922578Z",
     "start_time": "2023-03-02T07:22:39.905451Z"
    }
   },
   "outputs": [
    {
     "name": "stdout",
     "output_type": "stream",
     "text": [
      "이름: 홍길동, 나이: 20\n"
     ]
    }
   ],
   "source": [
    "p = Person(\"홍길동\")\n",
    "r = p(20)"
   ]
  },
  {
   "cell_type": "code",
   "execution_count": 9,
   "metadata": {
    "ExecuteTime": {
     "end_time": "2023-03-02T07:22:41.707548Z",
     "start_time": "2023-03-02T07:22:41.689548Z"
    }
   },
   "outputs": [
    {
     "name": "stdout",
     "output_type": "stream",
     "text": [
      "이름: 홍길동, 나이: 20 - 문자열\n"
     ]
    }
   ],
   "source": [
    "print(r)"
   ]
  },
  {
   "cell_type": "code",
   "execution_count": 10,
   "metadata": {
    "ExecuteTime": {
     "end_time": "2023-03-02T07:24:39.989244Z",
     "start_time": "2023-03-02T07:24:39.980164Z"
    }
   },
   "outputs": [
    {
     "name": "stdout",
     "output_type": "stream",
     "text": [
      "이름: 길동, 나이: 25\n",
      "이름: 길동, 나이: 25 - 문자열\n"
     ]
    }
   ],
   "source": [
    "r = Person(\"길동\")(25)  # 객체 생성하면서 __call__() 바로 호출\n",
    "print(r)"
   ]
  },
  {
   "cell_type": "code",
   "execution_count": null,
   "metadata": {},
   "outputs": [],
   "source": []
  },
  {
   "cell_type": "markdown",
   "metadata": {
    "slideshow": {
     "slide_type": "slide"
    }
   },
   "source": [
    "# Functional API\n",
    "- Sequential 모델은 각 Layer들의 입력과 출력이 하나라고 가정한다. 그리고 각각의 Layer(입력층, 은닉층, 출력층)들을 차례대로 쌓아 구성한다. 그래서 다양한 구조의 네트워크를 만드는데 한계가 있다.\n",
    "- 함수형 API를 사용하면 **다중입력, 다중출력, 그래프 형태**의 다양한 형태의 레이어들을 유연하게 구성할 수 있다.\n",
    "\n",
    "- Functional API는 직접 텐서들의 입출력을 다룬다. \n",
    "- 함수호출 처럼 Layer를 이용하여 입력 텐서(Input Tensor)를 입력 받고 그 결과를 출력 텐서(Output Tensor)로 반환하는 형식으로 모델을 구현한다.\n",
    "\n",
    "```python\n",
    "input_tensor = Input(shape=(16,))\n",
    "dense = layers.Dense(32, activation='relu')(input_tensor)\n",
    "output_tensor = layers.Dense(32, activation='sigmoid')(dense)\n",
    "\n",
    "model = models.Model(input_tensor, output_tensor)\n",
    "```"
   ]
  },
  {
   "cell_type": "markdown",
   "metadata": {
    "slideshow": {
     "slide_type": "slide"
    }
   },
   "source": [
    "## Sequential, Functional API "
   ]
  },
  {
   "cell_type": "markdown",
   "metadata": {
    "slideshow": {
     "slide_type": "slide"
    }
   },
   "source": [
    "### Sequential"
   ]
  },
  {
   "cell_type": "code",
   "execution_count": 1,
   "metadata": {
    "ExecuteTime": {
     "end_time": "2023-03-03T00:28:00.692111Z",
     "start_time": "2023-03-03T00:27:54.189839Z"
    },
    "slideshow": {
     "slide_type": "fragment"
    }
   },
   "outputs": [],
   "source": [
    "import tensorflow as tf\n",
    "from tensorflow import keras\n",
    "from tensorflow.keras import applications\n",
    "from tensorflow.keras import layers, models"
   ]
  },
  {
   "cell_type": "code",
   "execution_count": 12,
   "metadata": {
    "ExecuteTime": {
     "end_time": "2023-03-02T07:30:51.000622Z",
     "start_time": "2023-03-02T07:30:50.811078Z"
    },
    "collapsed": true,
    "slideshow": {
     "slide_type": "fragment"
    }
   },
   "outputs": [
    {
     "name": "stdout",
     "output_type": "stream",
     "text": [
      "Model: \"sequential\"\n",
      "_________________________________________________________________\n",
      " Layer (type)                Output Shape              Param #   \n",
      "=================================================================\n",
      " conv2d (Conv2D)             (None, 32, 32, 64)        1792      \n",
      "                                                                 \n",
      " max_pooling2d (MaxPooling2D  (None, 16, 16, 64)       0         \n",
      " )                                                               \n",
      "                                                                 \n",
      " flatten (Flatten)           (None, 16384)             0         \n",
      "                                                                 \n",
      " dense (Dense)               (None, 256)               4194560   \n",
      "                                                                 \n",
      " output_layer (Dense)        (None, 10)                2570      \n",
      "                                                                 \n",
      "=================================================================\n",
      "Total params: 4,198,922\n",
      "Trainable params: 4,198,922\n",
      "Non-trainable params: 0\n",
      "_________________________________________________________________\n"
     ]
    }
   ],
   "source": [
    "seq_model = keras.Sequential()\n",
    "seq_model.add(layers.Input(shape=(32,32,3)))\n",
    "\n",
    "seq_model.add(layers.Conv2D(filters=64, kernel_size=3, padding='same', activation='relu'))\n",
    "seq_model.add(layers.MaxPooling2D(padding=\"same\"))\n",
    "seq_model.add(layers.Flatten())\n",
    "\n",
    "seq_model.add(layers.Dense(units=256, activation='relu'))\n",
    "seq_model.add(layers.Dense(units=10, activation='softmax', name='output_layer'))\n",
    "seq_model.summary()"
   ]
  },
  {
   "cell_type": "markdown",
   "metadata": {
    "slideshow": {
     "slide_type": "slide"
    }
   },
   "source": [
    "### Functional API"
   ]
  },
  {
   "cell_type": "code",
   "execution_count": 15,
   "metadata": {
    "ExecuteTime": {
     "end_time": "2023-03-02T07:52:41.348138Z",
     "start_time": "2023-03-02T07:52:41.261603Z"
    }
   },
   "outputs": [],
   "source": [
    "# 레이어의 흐름 구조를 구현\n",
    "input_tensor = layers.Input(shape=(32, 32, 3))   # 입력 값을 생성(레이어가 아님.)\n",
    "\n",
    "# y = f(input_tensor) # unit/layer/model 모두 함수.\n",
    "conv_tensor = layers.Conv2D(filters=64, kernel_size=3, padding='same', activation='relu')(input_tensor)\n",
    "# conv_tensor2 = layers.Conv2D(filters=64, kernel_size=3, padding='same', activation='relu')(input_tensor)\n",
    "pool_tensor = layers.MaxPooling2D(padding='same')(conv_tensor)\n",
    "flatten_tensor = layers.Flatten()(pool_tensor)\n",
    "dense_tensor = layers.Dense(256, activation='relu')(flatten_tensor)\n",
    "output_tensor = layers.Dense(10, activation='softmax')(dense_tensor)\n",
    "\n",
    "# 모델 생성-> input들과 output들을 넣어서 생성. => \n",
    "#     input들/output들 : 학습/추론할때 실제 생성될 입력값, 출력값을 표현하는 tensor 객체. 여러개일 경우 리스트로 묶어서 전달.\n",
    "fn_model = models.Model(input_tensor, output_tensor)"
   ]
  },
  {
   "cell_type": "code",
   "execution_count": 14,
   "metadata": {
    "ExecuteTime": {
     "end_time": "2023-03-02T07:50:13.907108Z",
     "start_time": "2023-03-02T07:50:13.866727Z"
    }
   },
   "outputs": [
    {
     "name": "stdout",
     "output_type": "stream",
     "text": [
      "Model: \"model\"\n",
      "_________________________________________________________________\n",
      " Layer (type)                Output Shape              Param #   \n",
      "=================================================================\n",
      " input_2 (InputLayer)        [(None, 32, 32, 3)]       0         \n",
      "                                                                 \n",
      " conv2d_1 (Conv2D)           (None, 32, 32, 64)        1792      \n",
      "                                                                 \n",
      " max_pooling2d_1 (MaxPooling  (None, 16, 16, 64)       0         \n",
      " 2D)                                                             \n",
      "                                                                 \n",
      " flatten_1 (Flatten)         (None, 16384)             0         \n",
      "                                                                 \n",
      " dense_1 (Dense)             (None, 256)               4194560   \n",
      "                                                                 \n",
      " dense_2 (Dense)             (None, 10)                2570      \n",
      "                                                                 \n",
      "=================================================================\n",
      "Total params: 4,198,922\n",
      "Trainable params: 4,198,922\n",
      "Non-trainable params: 0\n",
      "_________________________________________________________________\n"
     ]
    }
   ],
   "source": [
    "fn_model.summary()"
   ]
  },
  {
   "cell_type": "markdown",
   "metadata": {
    "collapsed": true,
    "slideshow": {
     "slide_type": "slide"
    }
   },
   "source": [
    "##### 각 Layer의 출력 변수들 통일. \n",
    "- 일반적으로 block 단위로 동일한 변수명을 사용.\n",
    "- hidden layer들의 출력결과는 모두 동일한 변수명을 사용"
   ]
  },
  {
   "cell_type": "code",
   "execution_count": null,
   "metadata": {},
   "outputs": [],
   "source": [
    "x = 10\n",
    "r = f1(x)\n",
    "r = f2(r)\n",
    "r = f3(r)\n",
    "o = f4(r)"
   ]
  },
  {
   "cell_type": "code",
   "execution_count": 17,
   "metadata": {
    "ExecuteTime": {
     "end_time": "2023-03-02T08:17:34.430259Z",
     "start_time": "2023-03-02T08:17:34.318210Z"
    }
   },
   "outputs": [
    {
     "name": "stdout",
     "output_type": "stream",
     "text": [
      "Model: \"model_2\"\n",
      "_________________________________________________________________\n",
      " Layer (type)                Output Shape              Param #   \n",
      "=================================================================\n",
      " input_5 (InputLayer)        [(None, 32, 32, 3)]       0         \n",
      "                                                                 \n",
      " conv2d_7 (Conv2D)           (None, 32, 32, 16)        448       \n",
      "                                                                 \n",
      " max_pooling2d_6 (MaxPooling  (None, 16, 16, 16)       0         \n",
      " 2D)                                                             \n",
      "                                                                 \n",
      " conv2d_8 (Conv2D)           (None, 16, 16, 16)        2320      \n",
      "                                                                 \n",
      " max_pooling2d_7 (MaxPooling  (None, 8, 8, 16)         0         \n",
      " 2D)                                                             \n",
      "                                                                 \n",
      " conv2d_9 (Conv2D)           (None, 8, 8, 16)          2320      \n",
      "                                                                 \n",
      " conv2d_10 (Conv2D)          (None, 8, 8, 16)          2320      \n",
      "                                                                 \n",
      " max_pooling2d_8 (MaxPooling  (None, 4, 4, 16)         0         \n",
      " 2D)                                                             \n",
      "                                                                 \n",
      " flatten_4 (Flatten)         (None, 256)               0         \n",
      "                                                                 \n",
      " dense_5 (Dense)             (None, 10)                2570      \n",
      "                                                                 \n",
      "=================================================================\n",
      "Total params: 9,978\n",
      "Trainable params: 9,978\n",
      "Non-trainable params: 0\n",
      "_________________________________________________________________\n"
     ]
    }
   ],
   "source": [
    "input_tensor = layers.Input(shape=(32,32,3))\n",
    "\n",
    "x1 = layers.Conv2D(filters=16, kernel_size=3, padding='same', activation='relu')(input_tensor)\n",
    "x1 = layers.MaxPooling2D(padding='same')(x1)\n",
    "\n",
    "x2 = layers.Conv2D(filters=16, kernel_size=3, padding='same', activation='relu')(x1)\n",
    "x2 = layers.MaxPooling2D(padding='same')(x2)\n",
    "\n",
    "x3 = layers.Conv2D(filters=16, kernel_size=3, padding='same', activation='relu')(x2)\n",
    "x3 = layers.Conv2D(filters=16, kernel_size=3, padding='same', activation='relu')(x3)\n",
    "x3 = layers.MaxPooling2D(padding='same')(x3)\n",
    "\n",
    "x4 = layers.Flatten()(x3)\n",
    "output_tensor = layers.Dense(10, activation='softmax')(x4)\n",
    "\n",
    "model3 = models.Model(input_tensor, output_tensor)\n",
    "\n",
    "model3.summary()"
   ]
  },
  {
   "cell_type": "markdown",
   "metadata": {
    "slideshow": {
     "slide_type": "slide"
    }
   },
   "source": [
    "##### trainable 설정"
   ]
  },
  {
   "cell_type": "code",
   "execution_count": null,
   "metadata": {},
   "outputs": [],
   "source": [
    "Person(\"홍길동\")(30)\n",
    "\n",
    "p = Person('이순신')\n",
    "p.name = '이순신2'\n",
    "p(30)"
   ]
  },
  {
   "cell_type": "code",
   "execution_count": null,
   "metadata": {},
   "outputs": [],
   "source": [
    "c1 = layers.Conv2D(filters=16, kernel_size=3, padding='same', activation='relu')\n",
    "c1.trainable=False\n",
    "c2 = layers.Conv2D(filters=16, kernel_size=3, padding='same', activation='relu')\n",
    "c3 = layers.Conv2D(filters=16, kernel_size=3, padding='same', activation='relu')\n",
    "\n",
    "input_tensor = layers.Input(shape=(32,32,3))\n",
    "x = c1(input_tensor)\n",
    "x = c2(x)\n",
    "x = c3(x)\n"
   ]
  },
  {
   "cell_type": "code",
   "execution_count": null,
   "metadata": {},
   "outputs": [],
   "source": []
  },
  {
   "cell_type": "code",
   "execution_count": 18,
   "metadata": {
    "ExecuteTime": {
     "end_time": "2023-03-02T08:21:06.004874Z",
     "start_time": "2023-03-02T08:21:05.862452Z"
    },
    "collapsed": true
   },
   "outputs": [
    {
     "name": "stdout",
     "output_type": "stream",
     "text": [
      "Model: \"model_3\"\n",
      "_________________________________________________________________\n",
      " Layer (type)                Output Shape              Param #   \n",
      "=================================================================\n",
      " input_6 (InputLayer)        [(None, 32, 32, 3)]       0         \n",
      "                                                                 \n",
      " conv2d_11 (Conv2D)          (None, 32, 32, 16)        448       \n",
      "                                                                 \n",
      " max_pooling2d_9 (MaxPooling  (None, 16, 16, 16)       0         \n",
      " 2D)                                                             \n",
      "                                                                 \n",
      " conv2d_12 (Conv2D)          (None, 16, 16, 16)        2320      \n",
      "                                                                 \n",
      " max_pooling2d_10 (MaxPoolin  (None, 8, 8, 16)         0         \n",
      " g2D)                                                            \n",
      "                                                                 \n",
      " conv2d_13 (Conv2D)          (None, 8, 8, 16)          2320      \n",
      "                                                                 \n",
      " conv2d_14 (Conv2D)          (None, 8, 8, 16)          2320      \n",
      "                                                                 \n",
      " max_pooling2d_11 (MaxPoolin  (None, 4, 4, 16)         0         \n",
      " g2D)                                                            \n",
      "                                                                 \n",
      " flatten_5 (Flatten)         (None, 256)               0         \n",
      "                                                                 \n",
      " dense_6 (Dense)             (None, 10)                2570      \n",
      "                                                                 \n",
      "=================================================================\n",
      "Total params: 9,978\n",
      "Trainable params: 9,530\n",
      "Non-trainable params: 448\n",
      "_________________________________________________________________\n"
     ]
    }
   ],
   "source": [
    "input_tensor = layers.Input(shape=(32,32,3))\n",
    "\n",
    "c1 = layers.Conv2D(filters=16, kernel_size=3, padding='same', activation='relu')\n",
    "c1.trainable = False\n",
    "x1 = c1(input_tensor)\n",
    "\n",
    "x1 = layers.MaxPooling2D(padding='same')(x1)\n",
    "\n",
    "x2 = layers.Conv2D(filters=16, kernel_size=3, padding='same', activation='relu')(x1)\n",
    "x2 = layers.MaxPooling2D(padding='same')(x2)\n",
    "\n",
    "x3 = layers.Conv2D(filters=16, kernel_size=3, padding='same', activation='relu')(x2)\n",
    "x3 = layers.Conv2D(filters=16, kernel_size=3, padding='same', activation='relu')(x3)\n",
    "x3 = layers.MaxPooling2D(padding='same')(x3)\n",
    "\n",
    "x4 = layers.Flatten()(x3)\n",
    "output_tensor = layers.Dense(10, activation='softmax')(x4)\n",
    "\n",
    "model3 = models.Model(input_tensor, output_tensor)\n",
    "\n",
    "model3.summary()"
   ]
  },
  {
   "cell_type": "markdown",
   "metadata": {
    "slideshow": {
     "slide_type": "slide"
    }
   },
   "source": [
    "##### Transfer learning"
   ]
  },
  {
   "cell_type": "code",
   "execution_count": 23,
   "metadata": {
    "ExecuteTime": {
     "end_time": "2023-03-02T08:30:23.324361Z",
     "start_time": "2023-03-02T08:30:22.749357Z"
    }
   },
   "outputs": [
    {
     "name": "stdout",
     "output_type": "stream",
     "text": [
      "Model: \"model_6\"\n",
      "__________________________________________________________________________________________________\n",
      " Layer (type)                   Output Shape         Param #     Connected to                     \n",
      "==================================================================================================\n",
      " input_12 (InputLayer)          [(None, 224, 224, 3  0           []                               \n",
      "                                )]                                                                \n",
      "                                                                                                  \n",
      " vgg16 (Functional)             (None, None, None,   14714688    ['input_12[0][0]']               \n",
      "                                512)                                                              \n",
      "                                                                                                  \n",
      " global_average_pooling2d_2 (Gl  (None, 512)         0           ['vgg16[0][0]']                  \n",
      " obalAveragePooling2D)                                                                            \n",
      "                                                                                                  \n",
      " dropout_1 (Dropout)            (None, 512)          0           ['global_average_pooling2d_2[0][0\n",
      "                                                                 ]']                              \n",
      "                                                                                                  \n",
      " dense_10 (Dense)               (None, 512)          262656      ['dropout_1[0][0]']              \n",
      "                                                                                                  \n",
      " dense_11 (Dense)               (None, 1)            513         ['dense_10[0][0]']               \n",
      "                                                                                                  \n",
      " dense_12 (Dense)               (None, 10)           5130        ['dense_10[0][0]']               \n",
      "                                                                                                  \n",
      "==================================================================================================\n",
      "Total params: 14,982,987\n",
      "Trainable params: 268,299\n",
      "Non-trainable params: 14,714,688\n",
      "__________________________________________________________________________________________________\n"
     ]
    }
   ],
   "source": [
    "backbone = applications.VGG16(include_top=False)\n",
    "backbone.trainable = False\n",
    "\n",
    "input_tensor = layers.Input(shape=(224,224,3))\n",
    "x = backbone(input_tensor)\n",
    "x = layers.GlobalAveragePooling2D()(x)\n",
    "x = layers.Dropout(0.3)(x)\n",
    "x = layers.Dense(512, activation='relu')(x)\n",
    "output_tensor = layers.Dense(1, activation='sigmoid')(x)\n",
    "output_tensor2 = layers.Dense(10, activation='softmax')(x)\n",
    "\n",
    "model4 = models.Model(input_tensor, [output_tensor, output_tensor2])\n",
    "model4.summary()"
   ]
  },
  {
   "cell_type": "code",
   "execution_count": 24,
   "metadata": {
    "ExecuteTime": {
     "end_time": "2023-03-02T08:30:53.377693Z",
     "start_time": "2023-03-02T08:30:53.165295Z"
    }
   },
   "outputs": [
    {
     "data": {
      "image/png": "[encoded data removed]",
      "text/plain": [
       "<IPython.core.display.Image object>"
      ]
     },
     "execution_count": 24,
     "metadata": {},
     "output_type": "execute_result"
    }
   ],
   "source": [
    "keras.utils.plot_model(model4, show_shapes=True)"
   ]
  },
  {
   "cell_type": "markdown",
   "metadata": {
    "slideshow": {
     "slide_type": "slide"
    }
   },
   "source": [
    "## 여러개의 출력결과를  합치는 Layer\n",
    "\n",
    "- 앞 레이어들에서 출력된 값이 여러개이고 이것을 하나의 Layer의 입력으로 넣어 줄 경우 **여러개의 출력값을 합쳐 줘야 한다.** 이때 단순이 합치거나 element wise 연산을 통해 합칠 수 있다. \n",
    "- 함수와 Layer class 두가지 방식을 제공한다.\n",
    "    - tensorflow.keras.layers 모듈로 제공\n",
    "- **concatenate(list, axis=-1)/Concatenate(axis=-1)([list])**\n",
    "    - 레이어들을 단순히 합친다. (붙이는 처리)\n",
    "    - list: 합칠 레이어들을 리스트에 묶어 전달\n",
    "    - axis: 합칠 기준축. (기본값: -1 : 마지막 축기준)\n",
    "- **add(list)/Add()(list), substract(list)/Subtract()(list), multiply(list)/Multiply()(list)**\n",
    "    - 같은 index의 값들을 계산해서(더하기, 빼기, 곱하기) 하나의 레이어로 만든다.\n",
    "    - list: 합칠 레이어들을 리스트에 묶어 전달"
   ]
  },
  {
   "cell_type": "code",
   "execution_count": 6,
   "metadata": {
    "ExecuteTime": {
     "end_time": "2023-03-03T00:57:05.687603Z",
     "start_time": "2023-03-03T00:57:05.563813Z"
    }
   },
   "outputs": [],
   "source": [
    "#ResNet의 Residual Block을 구현.\n",
    "input_tensor = layers.Input(shape=(32,32,3))\n",
    "x = layers.Conv2D(filters=64, kernel_size=7, padding='same', activation='relu')(input_tensor)\n",
    "x = layers.MaxPooling2D(padding='same')(x)\n",
    "\n",
    "# residual block : x-input\n",
    "x1 = layers.Conv2D(filters=64, kernel_size=3, padding='same')(x)\n",
    "x1 = layers.BatchNormalization()(x1)\n",
    "x1 = layers.ReLU()(x1)\n",
    "x1 = layers.Conv2D(filters=128, kernel_size=3, padding='same')(x1)\n",
    "x1 = layers.BatchNormalization()(x1)\n",
    "# point wise conv을 이용해 channel size 조정.\n",
    "x1 = layers.Conv2D(filters=64, kernel_size=1, padding='same')(x1)  \n",
    "#x와 x1을 더하기\n",
    "x1 = layers.Add()([x, x1])   # x1 = layers.add([x, x1])\n",
    "\n",
    "output_tensor = layers.ReLU()(x1)\n",
    "\n",
    "rb_model = models.Model(input_tensor, output_tensor)"
   ]
  },
  {
   "cell_type": "code",
   "execution_count": 7,
   "metadata": {
    "ExecuteTime": {
     "end_time": "2023-03-03T00:58:41.230237Z",
     "start_time": "2023-03-03T00:58:41.186911Z"
    }
   },
   "outputs": [
    {
     "name": "stdout",
     "output_type": "stream",
     "text": [
      "Model: \"model_1\"\n",
      "__________________________________________________________________________________________________\n",
      " Layer (type)                   Output Shape         Param #     Connected to                     \n",
      "==================================================================================================\n",
      " input_3 (InputLayer)           [(None, 32, 32, 3)]  0           []                               \n",
      "                                                                                                  \n",
      " conv2d_6 (Conv2D)              (None, 32, 32, 64)   9472        ['input_3[0][0]']                \n",
      "                                                                                                  \n",
      " max_pooling2d_2 (MaxPooling2D)  (None, 16, 16, 64)  0           ['conv2d_6[0][0]']               \n",
      "                                                                                                  \n",
      " conv2d_7 (Conv2D)              (None, 16, 16, 64)   36928       ['max_pooling2d_2[0][0]']        \n",
      "                                                                                                  \n",
      " batch_normalization_4 (BatchNo  (None, 16, 16, 64)  256         ['conv2d_7[0][0]']               \n",
      " rmalization)                                                                                     \n",
      "                                                                                                  \n",
      " re_lu_3 (ReLU)                 (None, 16, 16, 64)   0           ['batch_normalization_4[0][0]']  \n",
      "                                                                                                  \n",
      " conv2d_8 (Conv2D)              (None, 16, 16, 128)  73856       ['re_lu_3[0][0]']                \n",
      "                                                                                                  \n",
      " batch_normalization_5 (BatchNo  (None, 16, 16, 128)  512        ['conv2d_8[0][0]']               \n",
      " rmalization)                                                                                     \n",
      "                                                                                                  \n",
      " conv2d_9 (Conv2D)              (None, 16, 16, 64)   8256        ['batch_normalization_5[0][0]']  \n",
      "                                                                                                  \n",
      " add_2 (Add)                    (None, 16, 16, 64)   0           ['max_pooling2d_2[0][0]',        \n",
      "                                                                  'conv2d_9[0][0]']               \n",
      "                                                                                                  \n",
      " re_lu_4 (ReLU)                 (None, 16, 16, 64)   0           ['add_2[0][0]']                  \n",
      "                                                                                                  \n",
      "==================================================================================================\n",
      "Total params: 129,280\n",
      "Trainable params: 128,896\n",
      "Non-trainable params: 384\n",
      "__________________________________________________________________________________________________\n"
     ]
    }
   ],
   "source": [
    "rb_model.summary()"
   ]
  },
  {
   "cell_type": "code",
   "execution_count": 8,
   "metadata": {
    "ExecuteTime": {
     "end_time": "2023-03-03T00:58:45.600315Z",
     "start_time": "2023-03-03T00:58:45.370232Z"
    }
   },
   "outputs": [
    {
     "data": {
      "image/png": "[encoded data removed]",
      "text/plain": [
       "<IPython.core.display.Image object>"
      ]
     },
     "execution_count": 8,
     "metadata": {},
     "output_type": "execute_result"
    }
   ],
   "source": [
    "keras.utils.plot_model(rb_model, show_shapes=True)"
   ]
  },
  {
   "cell_type": "markdown",
   "metadata": {
    "slideshow": {
     "slide_type": "slide"
    }
   },
   "source": [
    "### 다중 출력 모델\n",
    "- 가정\n",
    "    - iris 데이터셋에서 꽃받침의 너비와 높이로 꽃잎의 너비, 높이, 꽃 종류를 예측하는 모델\n",
    "    - 출력결과가 3개가 나와야 한다.\n",
    "- X: 꽃받침 너비, 높이\n",
    "- y: 꽃잎 너비, 높이, 꽃 종류"
   ]
  },
  {
   "cell_type": "code",
   "execution_count": 10,
   "metadata": {
    "ExecuteTime": {
     "end_time": "2023-03-03T01:26:04.068585Z",
     "start_time": "2023-03-03T01:26:04.058946Z"
    }
   },
   "outputs": [
    {
     "data": {
      "text/plain": [
       "(150, 4)"
      ]
     },
     "execution_count": 10,
     "metadata": {},
     "output_type": "execute_result"
    }
   ],
   "source": [
    "from sklearn.datasets import load_iris\n",
    "\n",
    "X, y = load_iris(return_X_y=True)\n",
    "X.shape"
   ]
  },
  {
   "cell_type": "code",
   "execution_count": 11,
   "metadata": {
    "ExecuteTime": {
     "end_time": "2023-03-03T01:28:14.603901Z",
     "start_time": "2023-03-03T01:28:14.588849Z"
    }
   },
   "outputs": [
    {
     "data": {
      "text/plain": [
       "((150, 2), (150,), (150,), (150,))"
      ]
     },
     "execution_count": 11,
     "metadata": {},
     "output_type": "execute_result"
    }
   ],
   "source": [
    "# X, y의 형태를 변환 \n",
    "# y1: petal length, y2: petal width, y3: target\n",
    "y1 = X[:, 2]\n",
    "y2 = X[:, 3]\n",
    "y3 = y\n",
    "\n",
    "# X: sepal length, width\n",
    "X = X[:, [0, 1]]\n",
    "X.shape, y1.shape, y2.shape, y3.shape"
   ]
  },
  {
   "cell_type": "markdown",
   "metadata": {
    "slideshow": {
     "slide_type": "fragment"
    }
   },
   "source": [
    "##### 모델 정의 및 컴파일"
   ]
  },
  {
   "cell_type": "code",
   "execution_count": 12,
   "metadata": {
    "ExecuteTime": {
     "end_time": "2023-03-03T01:36:40.355048Z",
     "start_time": "2023-03-03T01:36:40.268047Z"
    }
   },
   "outputs": [],
   "source": [
    "# 모델정의 - 입력: X, 출력: y1, y2, y3 (다중출력)\n",
    "input_tensor = layers.Input(shape=(2, ))\n",
    "# hidden layer\n",
    "x = layers.Dense(units=16, activation='relu')(input_tensor)\n",
    "x = layers.Dense(units=8, activation='relu')(x)\n",
    "\n",
    "# output layer\n",
    "output_tensor1 = layers.Dense(1, name='petal_length_output')(x)\n",
    "output_tensor2 = layers.Dense(1, name='petal_width_output')(x)\n",
    "output_tensor3 = layers.Dense(3, activation='softmax', name='species_output')(x)\n",
    "\n",
    "model = models.Model(input_tensor, [output_tensor1, output_tensor2, output_tensor3])\n",
    "# input이나 output이 여러개일 경우 List로 묶어서 전달."
   ]
  },
  {
   "cell_type": "code",
   "execution_count": 13,
   "metadata": {
    "ExecuteTime": {
     "end_time": "2023-03-03T01:36:50.078401Z",
     "start_time": "2023-03-03T01:36:50.050619Z"
    }
   },
   "outputs": [
    {
     "name": "stdout",
     "output_type": "stream",
     "text": [
      "Model: \"model_2\"\n",
      "__________________________________________________________________________________________________\n",
      " Layer (type)                   Output Shape         Param #     Connected to                     \n",
      "==================================================================================================\n",
      " input_4 (InputLayer)           [(None, 2)]          0           []                               \n",
      "                                                                                                  \n",
      " dense (Dense)                  (None, 16)           48          ['input_4[0][0]']                \n",
      "                                                                                                  \n",
      " dense_1 (Dense)                (None, 8)            136         ['dense[0][0]']                  \n",
      "                                                                                                  \n",
      " petal_length_output (Dense)    (None, 1)            9           ['dense_1[0][0]']                \n",
      "                                                                                                  \n",
      " petal_width_output (Dense)     (None, 1)            9           ['dense_1[0][0]']                \n",
      "                                                                                                  \n",
      " species_output (Dense)         (None, 3)            27          ['dense_1[0][0]']                \n",
      "                                                                                                  \n",
      "==================================================================================================\n",
      "Total params: 229\n",
      "Trainable params: 229\n",
      "Non-trainable params: 0\n",
      "__________________________________________________________________________________________________\n"
     ]
    }
   ],
   "source": [
    "model.summary()"
   ]
  },
  {
   "cell_type": "code",
   "execution_count": 14,
   "metadata": {
    "ExecuteTime": {
     "end_time": "2023-03-03T01:37:26.707697Z",
     "start_time": "2023-03-03T01:37:26.491670Z"
    }
   },
   "outputs": [
    {
     "data": {
      "image/png": "[encoded data removed]",
      "text/plain": [
       "<IPython.core.display.Image object>"
      ]
     },
     "execution_count": 14,
     "metadata": {},
     "output_type": "execute_result"
    }
   ],
   "source": [
    "keras.utils.plot_model(model, show_shapes=True)"
   ]
  },
  {
   "cell_type": "code",
   "execution_count": 17,
   "metadata": {
    "ExecuteTime": {
     "end_time": "2023-03-03T01:43:19.777294Z",
     "start_time": "2023-03-03T01:43:19.748296Z"
    }
   },
   "outputs": [],
   "source": [
    "# compile\n",
    "model.compile(optimizer='adam', \n",
    "              loss=[\"mse\", \"mse\", \"sparse_categorical_crossentropy\"])\n",
    "             # 출력결과순서별로 loss를 구해서 모두 더한 Total Loss 를 이용해 최적화작업을 수행한다."
   ]
  },
  {
   "cell_type": "code",
   "execution_count": 30,
   "metadata": {
    "ExecuteTime": {
     "end_time": "2023-03-03T01:53:06.316871Z",
     "start_time": "2023-03-03T01:53:06.293241Z"
    }
   },
   "outputs": [
    {
     "data": {
      "text/plain": [
       "<TensorSliceDataset element_spec=(TensorSpec(shape=(2,), dtype=tf.float64, name=None), (TensorSpec(shape=(), dtype=tf.float64, name=None), TensorSpec(shape=(), dtype=tf.float64, name=None), TensorSpec(shape=(), dtype=tf.int32, name=None)))>"
      ]
     },
     "execution_count": 30,
     "metadata": {},
     "output_type": "execute_result"
    }
   ],
   "source": [
    "tf.data.Dataset.from_tensor_slices((X, (y1, y2, y3)))"
   ]
  },
  {
   "cell_type": "code",
   "execution_count": 18,
   "metadata": {
    "ExecuteTime": {
     "end_time": "2023-03-03T01:43:29.343158Z",
     "start_time": "2023-03-03T01:43:20.523691Z"
    },
    "scrolled": true
   },
   "outputs": [
    {
     "name": "stdout",
     "output_type": "stream",
     "text": [
      "Epoch 1/100\n",
      "4/4 [==============================] - 2s 102ms/step - loss: 35.6906 - petal_length_output_loss: 31.9710 - petal_width_output_loss: 2.5700 - species_output_loss: 1.1496 - val_loss: 67.1428 - val_petal_length_output_loss: 59.6820 - val_petal_width_output_loss: 6.0121 - val_species_output_loss: 1.4487\n",
      "Epoch 2/100\n",
      "4/4 [==============================] - 0s 17ms/step - loss: 33.3979 - petal_length_output_loss: 30.0253 - petal_width_output_loss: 2.2214 - species_output_loss: 1.1512 - val_loss: 63.3683 - val_petal_length_output_loss: 56.5781 - val_petal_width_output_loss: 5.3438 - val_species_output_loss: 1.4464\n",
      "Epoch 3/100\n",
      "4/4 [==============================] - 0s 18ms/step - loss: 31.2364 - petal_length_output_loss: 28.1720 - petal_width_output_loss: 1.9084 - species_output_loss: 1.1560 - val_loss: 59.7838 - val_petal_length_output_loss: 53.6140 - val_petal_width_output_loss: 4.7286 - val_species_output_loss: 1.4413\n",
      "Epoch 4/100\n",
      "4/4 [==============================] - 0s 21ms/step - loss: 29.1727 - petal_length_output_loss: 26.3838 - petal_width_output_loss: 1.6274 - species_output_loss: 1.1615 - val_loss: 56.4035 - val_petal_length_output_loss: 50.7993 - val_petal_width_output_loss: 4.1671 - val_species_output_loss: 1.4371\n",
      "Epoch 5/100\n",
      "4/4 [==============================] - 0s 25ms/step - loss: 27.2881 - petal_length_output_loss: 24.7300 - petal_width_output_loss: 1.3915 - species_output_loss: 1.1666 - val_loss: 53.1974 - val_petal_length_output_loss: 48.1119 - val_petal_width_output_loss: 3.6532 - val_species_output_loss: 1.4323\n",
      "Epoch 6/100\n",
      "4/4 [==============================] - 0s 26ms/step - loss: 25.5305 - petal_length_output_loss: 23.1702 - petal_width_output_loss: 1.1891 - species_output_loss: 1.1712 - val_loss: 50.1710 - val_petal_length_output_loss: 45.5563 - val_petal_width_output_loss: 3.1866 - val_species_output_loss: 1.4280\n",
      "Epoch 7/100\n",
      "4/4 [==============================] - 0s 20ms/step - loss: 23.8870 - petal_length_output_loss: 21.6926 - petal_width_output_loss: 1.0176 - species_output_loss: 1.1768 - val_loss: 47.3483 - val_petal_length_output_loss: 43.1550 - val_petal_width_output_loss: 2.7695 - val_species_output_loss: 1.4238\n",
      "Epoch 8/100\n",
      "4/4 [==============================] - 0s 25ms/step - loss: 22.3656 - petal_length_output_loss: 20.3069 - petal_width_output_loss: 0.8776 - species_output_loss: 1.1812 - val_loss: 44.7189 - val_petal_length_output_loss: 40.8997 - val_petal_width_output_loss: 2.3991 - val_species_output_loss: 1.4201\n",
      "Epoch 9/100\n",
      "4/4 [==============================] - 0s 23ms/step - loss: 21.0007 - petal_length_output_loss: 19.0450 - petal_width_output_loss: 0.7710 - species_output_loss: 1.1847 - val_loss: 42.2609 - val_petal_length_output_loss: 38.7741 - val_petal_width_output_loss: 2.0706 - val_species_output_loss: 1.4162\n",
      "Epoch 10/100\n",
      "4/4 [==============================] - 0s 24ms/step - loss: 19.7514 - petal_length_output_loss: 17.8683 - petal_width_output_loss: 0.6947 - species_output_loss: 1.1884 - val_loss: 39.9601 - val_petal_length_output_loss: 36.7699 - val_petal_width_output_loss: 1.7784 - val_species_output_loss: 1.4118\n",
      "Epoch 11/100\n",
      "4/4 [==============================] - 0s 26ms/step - loss: 18.5756 - petal_length_output_loss: 16.7514 - petal_width_output_loss: 0.6315 - species_output_loss: 1.1926 - val_loss: 37.8444 - val_petal_length_output_loss: 34.9107 - val_petal_width_output_loss: 1.5249 - val_species_output_loss: 1.4088\n",
      "Epoch 12/100\n",
      "4/4 [==============================] - 0s 20ms/step - loss: 17.5138 - petal_length_output_loss: 15.7250 - petal_width_output_loss: 0.5921 - species_output_loss: 1.1967 - val_loss: 35.8835 - val_petal_length_output_loss: 33.1725 - val_petal_width_output_loss: 1.3050 - val_species_output_loss: 1.4060\n",
      "Epoch 13/100\n",
      "4/4 [==============================] - 0s 23ms/step - loss: 16.5582 - petal_length_output_loss: 14.7891 - petal_width_output_loss: 0.5693 - species_output_loss: 1.1998 - val_loss: 34.0828 - val_petal_length_output_loss: 31.5619 - val_petal_width_output_loss: 1.1169 - val_species_output_loss: 1.4039\n",
      "Epoch 14/100\n",
      "4/4 [==============================] - 0s 18ms/step - loss: 15.7157 - petal_length_output_loss: 13.9627 - petal_width_output_loss: 0.5539 - species_output_loss: 1.1991 - val_loss: 32.5215 - val_petal_length_output_loss: 30.1486 - val_petal_width_output_loss: 0.9717 - val_species_output_loss: 1.4012\n",
      "Epoch 15/100\n",
      "4/4 [==============================] - 0s 19ms/step - loss: 14.9615 - petal_length_output_loss: 13.2258 - petal_width_output_loss: 0.5401 - species_output_loss: 1.1956 - val_loss: 31.1146 - val_petal_length_output_loss: 28.8620 - val_petal_width_output_loss: 0.8530 - val_species_output_loss: 1.3997\n",
      "Epoch 16/100\n",
      "4/4 [==============================] - 0s 21ms/step - loss: 14.2900 - petal_length_output_loss: 12.5680 - petal_width_output_loss: 0.5293 - species_output_loss: 1.1927 - val_loss: 29.7827 - val_petal_length_output_loss: 27.6363 - val_petal_width_output_loss: 0.7486 - val_species_output_loss: 1.3978\n",
      "Epoch 17/100\n",
      "4/4 [==============================] - 0s 18ms/step - loss: 13.6679 - petal_length_output_loss: 11.9576 - petal_width_output_loss: 0.5196 - species_output_loss: 1.1907 - val_loss: 28.5135 - val_petal_length_output_loss: 26.4599 - val_petal_width_output_loss: 0.6569 - val_species_output_loss: 1.3967\n",
      "Epoch 18/100\n",
      "4/4 [==============================] - 0s 21ms/step - loss: 13.0917 - petal_length_output_loss: 11.3901 - petal_width_output_loss: 0.5142 - species_output_loss: 1.1874 - val_loss: 27.3321 - val_petal_length_output_loss: 25.3554 - val_petal_width_output_loss: 0.5803 - val_species_output_loss: 1.3964\n",
      "Epoch 19/100\n",
      "4/4 [==============================] - 0s 20ms/step - loss: 12.5287 - petal_length_output_loss: 10.8368 - petal_width_output_loss: 0.5085 - species_output_loss: 1.1834 - val_loss: 26.2895 - val_petal_length_output_loss: 24.3656 - val_petal_width_output_loss: 0.5220 - val_species_output_loss: 1.4018\n",
      "Epoch 20/100\n",
      "4/4 [==============================] - 0s 20ms/step - loss: 12.0792 - petal_length_output_loss: 10.3881 - petal_width_output_loss: 0.5122 - species_output_loss: 1.1788 - val_loss: 25.3586 - val_petal_length_output_loss: 23.4711 - val_petal_width_output_loss: 0.4774 - val_species_output_loss: 1.4102\n",
      "Epoch 21/100\n",
      "4/4 [==============================] - 0s 20ms/step - loss: 11.6459 - petal_length_output_loss: 9.9596 - petal_width_output_loss: 0.5157 - species_output_loss: 1.1706 - val_loss: 24.5721 - val_petal_length_output_loss: 22.6999 - val_petal_width_output_loss: 0.4488 - val_species_output_loss: 1.4234\n",
      "Epoch 22/100\n",
      "4/4 [==============================] - 0s 17ms/step - loss: 11.2695 - petal_length_output_loss: 9.5842 - petal_width_output_loss: 0.5217 - species_output_loss: 1.1636 - val_loss: 23.8500 - val_petal_length_output_loss: 21.9844 - val_petal_width_output_loss: 0.4264 - val_species_output_loss: 1.4392\n",
      "Epoch 23/100\n",
      "4/4 [==============================] - 0s 21ms/step - loss: 10.9041 - petal_length_output_loss: 9.2199 - petal_width_output_loss: 0.5281 - species_output_loss: 1.1562 - val_loss: 23.1589 - val_petal_length_output_loss: 21.2955 - val_petal_width_output_loss: 0.4072 - val_species_output_loss: 1.4562\n",
      "Epoch 24/100\n",
      "4/4 [==============================] - 0s 19ms/step - loss: 10.5577 - petal_length_output_loss: 8.8752 - petal_width_output_loss: 0.5346 - species_output_loss: 1.1479 - val_loss: 22.4888 - val_petal_length_output_loss: 20.6258 - val_petal_width_output_loss: 0.3903 - val_species_output_loss: 1.4727\n",
      "Epoch 25/100\n",
      "4/4 [==============================] - 0s 18ms/step - loss: 10.2376 - petal_length_output_loss: 8.5542 - petal_width_output_loss: 0.5426 - species_output_loss: 1.1408 - val_loss: 21.8230 - val_petal_length_output_loss: 19.9607 - val_petal_width_output_loss: 0.3744 - val_species_output_loss: 1.4879\n",
      "Epoch 26/100\n",
      "4/4 [==============================] - 0s 18ms/step - loss: 9.9152 - petal_length_output_loss: 8.2312 - petal_width_output_loss: 0.5496 - species_output_loss: 1.1344 - val_loss: 21.1790 - val_petal_length_output_loss: 19.3134 - val_petal_width_output_loss: 0.3608 - val_species_output_loss: 1.5048\n",
      "Epoch 27/100\n"
     ]
    },
    {
     "name": "stdout",
     "output_type": "stream",
     "text": [
      "4/4 [==============================] - 0s 24ms/step - loss: 9.5923 - petal_length_output_loss: 7.9091 - petal_width_output_loss: 0.5553 - species_output_loss: 1.1279 - val_loss: 20.5649 - val_petal_length_output_loss: 18.6919 - val_petal_width_output_loss: 0.3500 - val_species_output_loss: 1.5229\n",
      "Epoch 28/100\n",
      "4/4 [==============================] - 0s 19ms/step - loss: 9.2878 - petal_length_output_loss: 7.6056 - petal_width_output_loss: 0.5607 - species_output_loss: 1.1215 - val_loss: 19.9690 - val_petal_length_output_loss: 18.0871 - val_petal_width_output_loss: 0.3410 - val_species_output_loss: 1.5409\n",
      "Epoch 29/100\n",
      "4/4 [==============================] - 0s 17ms/step - loss: 9.0066 - petal_length_output_loss: 7.3241 - petal_width_output_loss: 0.5664 - species_output_loss: 1.1160 - val_loss: 19.3742 - val_petal_length_output_loss: 17.4842 - val_petal_width_output_loss: 0.3321 - val_species_output_loss: 1.5580\n",
      "Epoch 30/100\n",
      "4/4 [==============================] - 0s 23ms/step - loss: 8.7232 - petal_length_output_loss: 7.0414 - petal_width_output_loss: 0.5718 - species_output_loss: 1.1101 - val_loss: 18.7894 - val_petal_length_output_loss: 16.8913 - val_petal_width_output_loss: 0.3241 - val_species_output_loss: 1.5740\n",
      "Epoch 31/100\n",
      "4/4 [==============================] - 0s 25ms/step - loss: 8.4483 - petal_length_output_loss: 6.7664 - petal_width_output_loss: 0.5765 - species_output_loss: 1.1054 - val_loss: 18.2190 - val_petal_length_output_loss: 16.3113 - val_petal_width_output_loss: 0.3174 - val_species_output_loss: 1.5904\n",
      "Epoch 32/100\n",
      "4/4 [==============================] - 0s 23ms/step - loss: 8.1804 - petal_length_output_loss: 6.5022 - petal_width_output_loss: 0.5789 - species_output_loss: 1.0993 - val_loss: 17.6599 - val_petal_length_output_loss: 15.7425 - val_petal_width_output_loss: 0.3116 - val_species_output_loss: 1.6057\n",
      "Epoch 33/100\n",
      "4/4 [==============================] - 0s 15ms/step - loss: 7.9011 - petal_length_output_loss: 6.2527 - petal_width_output_loss: 0.5602 - species_output_loss: 1.0882 - val_loss: 17.1443 - val_petal_length_output_loss: 15.2096 - val_petal_width_output_loss: 0.3156 - val_species_output_loss: 1.6191\n",
      "Epoch 34/100\n",
      "4/4 [==============================] - 0s 27ms/step - loss: 7.6529 - petal_length_output_loss: 6.0284 - petal_width_output_loss: 0.5409 - species_output_loss: 1.0837 - val_loss: 16.6254 - val_petal_length_output_loss: 14.6779 - val_petal_width_output_loss: 0.3162 - val_species_output_loss: 1.6313\n",
      "Epoch 35/100\n",
      "4/4 [==============================] - 0s 20ms/step - loss: 7.4065 - petal_length_output_loss: 5.7860 - petal_width_output_loss: 0.5438 - species_output_loss: 1.0767 - val_loss: 16.0556 - val_petal_length_output_loss: 14.1078 - val_petal_width_output_loss: 0.3014 - val_species_output_loss: 1.6464\n",
      "Epoch 36/100\n",
      "4/4 [==============================] - 0s 20ms/step - loss: 7.1819 - petal_length_output_loss: 5.5548 - petal_width_output_loss: 0.5574 - species_output_loss: 1.0698 - val_loss: 15.5253 - val_petal_length_output_loss: 13.5723 - val_petal_width_output_loss: 0.2947 - val_species_output_loss: 1.6583\n",
      "Epoch 37/100\n",
      "4/4 [==============================] - 0s 15ms/step - loss: 6.9526 - petal_length_output_loss: 5.3286 - petal_width_output_loss: 0.5590 - species_output_loss: 1.0651 - val_loss: 15.0411 - val_petal_length_output_loss: 13.0746 - val_petal_width_output_loss: 0.2958 - val_species_output_loss: 1.6706\n",
      "Epoch 38/100\n",
      "4/4 [==============================] - 0s 19ms/step - loss: 6.7319 - petal_length_output_loss: 5.1216 - petal_width_output_loss: 0.5490 - species_output_loss: 1.0613 - val_loss: 14.5941 - val_petal_length_output_loss: 12.6087 - val_petal_width_output_loss: 0.3027 - val_species_output_loss: 1.6828\n",
      "Epoch 39/100\n",
      "4/4 [==============================] - 0s 21ms/step - loss: 6.5491 - petal_length_output_loss: 4.9470 - petal_width_output_loss: 0.5446 - species_output_loss: 1.0575 - val_loss: 14.1047 - val_petal_length_output_loss: 12.1112 - val_petal_width_output_loss: 0.2977 - val_species_output_loss: 1.6959\n",
      "Epoch 40/100\n",
      "4/4 [==============================] - 0s 20ms/step - loss: 6.3471 - petal_length_output_loss: 4.7491 - petal_width_output_loss: 0.5457 - species_output_loss: 1.0523 - val_loss: 13.6552 - val_petal_length_output_loss: 11.6483 - val_petal_width_output_loss: 0.2970 - val_species_output_loss: 1.7098\n",
      "Epoch 41/100\n",
      "4/4 [==============================] - 0s 18ms/step - loss: 6.1708 - petal_length_output_loss: 4.5791 - petal_width_output_loss: 0.5445 - species_output_loss: 1.0473 - val_loss: 13.2211 - val_petal_length_output_loss: 11.2006 - val_petal_width_output_loss: 0.2986 - val_species_output_loss: 1.7219\n",
      "Epoch 42/100\n",
      "4/4 [==============================] - 0s 20ms/step - loss: 5.9877 - petal_length_output_loss: 4.4047 - petal_width_output_loss: 0.5395 - species_output_loss: 1.0436 - val_loss: 12.8256 - val_petal_length_output_loss: 10.7865 - val_petal_width_output_loss: 0.3050 - val_species_output_loss: 1.7341\n",
      "Epoch 43/100\n",
      "4/4 [==============================] - 0s 21ms/step - loss: 5.8357 - petal_length_output_loss: 4.2624 - petal_width_output_loss: 0.5327 - species_output_loss: 1.0406 - val_loss: 12.4253 - val_petal_length_output_loss: 10.3707 - val_petal_width_output_loss: 0.3091 - val_species_output_loss: 1.7454\n",
      "Epoch 44/100\n",
      "4/4 [==============================] - 0s 23ms/step - loss: 5.6827 - petal_length_output_loss: 4.1184 - petal_width_output_loss: 0.5273 - species_output_loss: 1.0370 - val_loss: 12.0438 - val_petal_length_output_loss: 9.9729 - val_petal_width_output_loss: 0.3150 - val_species_output_loss: 1.7559\n",
      "Epoch 45/100\n",
      "4/4 [==============================] - 0s 21ms/step - loss: 5.5332 - petal_length_output_loss: 3.9782 - petal_width_output_loss: 0.5210 - species_output_loss: 1.0339 - val_loss: 11.6869 - val_petal_length_output_loss: 9.5969 - val_petal_width_output_loss: 0.3223 - val_species_output_loss: 1.7678\n",
      "Epoch 46/100\n",
      "4/4 [==============================] - 0s 20ms/step - loss: 5.4003 - petal_length_output_loss: 3.8554 - petal_width_output_loss: 0.5137 - species_output_loss: 1.0312 - val_loss: 11.3395 - val_petal_length_output_loss: 9.2311 - val_petal_width_output_loss: 0.3301 - val_species_output_loss: 1.7783\n",
      "Epoch 47/100\n",
      "4/4 [==============================] - 0s 21ms/step - loss: 5.2654 - petal_length_output_loss: 3.7323 - petal_width_output_loss: 0.5048 - species_output_loss: 1.0283 - val_loss: 11.0280 - val_petal_length_output_loss: 8.8975 - val_petal_width_output_loss: 0.3434 - val_species_output_loss: 1.7870\n",
      "Epoch 48/100\n",
      "4/4 [==============================] - 0s 20ms/step - loss: 5.1652 - petal_length_output_loss: 3.6411 - petal_width_output_loss: 0.4975 - species_output_loss: 1.0267 - val_loss: 10.6880 - val_petal_length_output_loss: 8.5451 - val_petal_width_output_loss: 0.3471 - val_species_output_loss: 1.7957\n",
      "Epoch 49/100\n",
      "4/4 [==============================] - 0s 17ms/step - loss: 5.0383 - petal_length_output_loss: 3.5250 - petal_width_output_loss: 0.4902 - species_output_loss: 1.0230 - val_loss: 10.4105 - val_petal_length_output_loss: 8.2440 - val_petal_width_output_loss: 0.3624 - val_species_output_loss: 1.8041\n",
      "Epoch 50/100\n",
      "4/4 [==============================] - 0s 18ms/step - loss: 4.9358 - petal_length_output_loss: 3.4343 - petal_width_output_loss: 0.4799 - species_output_loss: 1.0215 - val_loss: 10.1387 - val_petal_length_output_loss: 7.9505 - val_petal_width_output_loss: 0.3753 - val_species_output_loss: 1.8129\n",
      "Epoch 51/100\n",
      "4/4 [==============================] - 0s 21ms/step - loss: 4.8391 - petal_length_output_loss: 3.3482 - petal_width_output_loss: 0.4718 - species_output_loss: 1.0191 - val_loss: 9.8711 - val_petal_length_output_loss: 7.6657 - val_petal_width_output_loss: 0.3854 - val_species_output_loss: 1.8200\n",
      "Epoch 52/100\n",
      "4/4 [==============================] - 0s 26ms/step - loss: 4.7535 - petal_length_output_loss: 3.2717 - petal_width_output_loss: 0.4653 - species_output_loss: 1.0165 - val_loss: 9.6002 - val_petal_length_output_loss: 7.3824 - val_petal_width_output_loss: 0.3923 - val_species_output_loss: 1.8256\n",
      "Epoch 53/100\n"
     ]
    },
    {
     "name": "stdout",
     "output_type": "stream",
     "text": [
      "4/4 [==============================] - 0s 22ms/step - loss: 4.6781 - petal_length_output_loss: 3.2040 - petal_width_output_loss: 0.4605 - species_output_loss: 1.0135 - val_loss: 9.3274 - val_petal_length_output_loss: 7.1021 - val_petal_width_output_loss: 0.3960 - val_species_output_loss: 1.8293\n",
      "Epoch 54/100\n",
      "4/4 [==============================] - 0s 16ms/step - loss: 4.5936 - petal_length_output_loss: 3.1271 - petal_width_output_loss: 0.4554 - species_output_loss: 1.0111 - val_loss: 9.1067 - val_petal_length_output_loss: 6.8618 - val_petal_width_output_loss: 0.4088 - val_species_output_loss: 1.8361\n",
      "Epoch 55/100\n",
      "4/4 [==============================] - 0s 22ms/step - loss: 4.5249 - petal_length_output_loss: 3.0683 - petal_width_output_loss: 0.4474 - species_output_loss: 1.0092 - val_loss: 8.9001 - val_petal_length_output_loss: 6.6367 - val_petal_width_output_loss: 0.4242 - val_species_output_loss: 1.8392\n",
      "Epoch 56/100\n",
      "4/4 [==============================] - 0s 21ms/step - loss: 4.4642 - petal_length_output_loss: 3.0175 - petal_width_output_loss: 0.4397 - species_output_loss: 1.0069 - val_loss: 8.6829 - val_petal_length_output_loss: 6.4081 - val_petal_width_output_loss: 0.4332 - val_species_output_loss: 1.8416\n",
      "Epoch 57/100\n",
      "4/4 [==============================] - 0s 20ms/step - loss: 4.4078 - petal_length_output_loss: 2.9684 - petal_width_output_loss: 0.4347 - species_output_loss: 1.0048 - val_loss: 8.4659 - val_petal_length_output_loss: 6.1836 - val_petal_width_output_loss: 0.4379 - val_species_output_loss: 1.8444\n",
      "Epoch 58/100\n",
      "4/4 [==============================] - 0s 20ms/step - loss: 4.3501 - petal_length_output_loss: 2.9181 - petal_width_output_loss: 0.4294 - species_output_loss: 1.0025 - val_loss: 8.2986 - val_petal_length_output_loss: 5.9975 - val_petal_width_output_loss: 0.4543 - val_species_output_loss: 1.8469\n",
      "Epoch 59/100\n",
      "4/4 [==============================] - 0s 20ms/step - loss: 4.3046 - petal_length_output_loss: 2.8818 - petal_width_output_loss: 0.4220 - species_output_loss: 1.0008 - val_loss: 8.1244 - val_petal_length_output_loss: 5.8099 - val_petal_width_output_loss: 0.4657 - val_species_output_loss: 1.8487\n",
      "Epoch 60/100\n",
      "4/4 [==============================] - 0s 19ms/step - loss: 4.2581 - petal_length_output_loss: 2.8431 - petal_width_output_loss: 0.4160 - species_output_loss: 0.9989 - val_loss: 7.9704 - val_petal_length_output_loss: 5.6404 - val_petal_width_output_loss: 0.4789 - val_species_output_loss: 1.8511\n",
      "Epoch 61/100\n",
      "4/4 [==============================] - 0s 20ms/step - loss: 4.2178 - petal_length_output_loss: 2.8108 - petal_width_output_loss: 0.4099 - species_output_loss: 0.9970 - val_loss: 7.8291 - val_petal_length_output_loss: 5.4848 - val_petal_width_output_loss: 0.4935 - val_species_output_loss: 1.8508\n",
      "Epoch 62/100\n",
      "4/4 [==============================] - 0s 21ms/step - loss: 4.1784 - petal_length_output_loss: 2.7783 - petal_width_output_loss: 0.4043 - species_output_loss: 0.9958 - val_loss: 7.7235 - val_petal_length_output_loss: 5.3556 - val_petal_width_output_loss: 0.5144 - val_species_output_loss: 1.8535\n",
      "Epoch 63/100\n",
      "4/4 [==============================] - 0s 24ms/step - loss: 4.1503 - petal_length_output_loss: 2.7589 - petal_width_output_loss: 0.3975 - species_output_loss: 0.9939 - val_loss: 7.5629 - val_petal_length_output_loss: 5.1944 - val_petal_width_output_loss: 0.5174 - val_species_output_loss: 1.8511\n",
      "Epoch 64/100\n",
      "4/4 [==============================] - 0s 20ms/step - loss: 4.1123 - petal_length_output_loss: 2.7263 - petal_width_output_loss: 0.3941 - species_output_loss: 0.9919 - val_loss: 7.4597 - val_petal_length_output_loss: 5.0743 - val_petal_width_output_loss: 0.5321 - val_species_output_loss: 1.8532\n",
      "Epoch 65/100\n",
      "4/4 [==============================] - 0s 20ms/step - loss: 4.0851 - petal_length_output_loss: 2.7062 - petal_width_output_loss: 0.3891 - species_output_loss: 0.9898 - val_loss: 7.3319 - val_petal_length_output_loss: 4.9428 - val_petal_width_output_loss: 0.5376 - val_species_output_loss: 1.8515\n",
      "Epoch 66/100\n",
      "4/4 [==============================] - 0s 23ms/step - loss: 4.0573 - petal_length_output_loss: 2.6839 - petal_width_output_loss: 0.3855 - species_output_loss: 0.9879 - val_loss: 7.2174 - val_petal_length_output_loss: 4.8219 - val_petal_width_output_loss: 0.5443 - val_species_output_loss: 1.8512\n",
      "Epoch 67/100\n",
      "4/4 [==============================] - 0s 20ms/step - loss: 4.0323 - petal_length_output_loss: 2.6644 - petal_width_output_loss: 0.3818 - species_output_loss: 0.9861 - val_loss: 7.1155 - val_petal_length_output_loss: 4.7130 - val_petal_width_output_loss: 0.5537 - val_species_output_loss: 1.8489\n",
      "Epoch 68/100\n",
      "4/4 [==============================] - 0s 19ms/step - loss: 4.0101 - petal_length_output_loss: 2.6469 - petal_width_output_loss: 0.3787 - species_output_loss: 0.9845 - val_loss: 7.0278 - val_petal_length_output_loss: 4.6151 - val_petal_width_output_loss: 0.5659 - val_species_output_loss: 1.8469\n",
      "Epoch 69/100\n",
      "4/4 [==============================] - 0s 21ms/step - loss: 3.9874 - petal_length_output_loss: 2.6308 - petal_width_output_loss: 0.3741 - species_output_loss: 0.9826 - val_loss: 6.9315 - val_petal_length_output_loss: 4.5142 - val_petal_width_output_loss: 0.5729 - val_species_output_loss: 1.8445\n",
      "Epoch 70/100\n",
      "4/4 [==============================] - 0s 19ms/step - loss: 3.9678 - petal_length_output_loss: 2.6162 - petal_width_output_loss: 0.3708 - species_output_loss: 0.9808 - val_loss: 6.8423 - val_petal_length_output_loss: 4.4211 - val_petal_width_output_loss: 0.5807 - val_species_output_loss: 1.8405\n",
      "Epoch 71/100\n",
      "4/4 [==============================] - 0s 21ms/step - loss: 3.9514 - petal_length_output_loss: 2.6044 - petal_width_output_loss: 0.3678 - species_output_loss: 0.9792 - val_loss: 6.7492 - val_petal_length_output_loss: 4.3270 - val_petal_width_output_loss: 0.5853 - val_species_output_loss: 1.8369\n",
      "Epoch 72/100\n",
      "4/4 [==============================] - 0s 19ms/step - loss: 3.9315 - petal_length_output_loss: 2.5894 - petal_width_output_loss: 0.3646 - species_output_loss: 0.9775 - val_loss: 6.6959 - val_petal_length_output_loss: 4.2606 - val_petal_width_output_loss: 0.5999 - val_species_output_loss: 1.8355\n",
      "Epoch 73/100\n",
      "4/4 [==============================] - 0s 22ms/step - loss: 3.9152 - petal_length_output_loss: 2.5785 - petal_width_output_loss: 0.3605 - species_output_loss: 0.9762 - val_loss: 6.6498 - val_petal_length_output_loss: 4.2013 - val_petal_width_output_loss: 0.6163 - val_species_output_loss: 1.8322\n",
      "Epoch 74/100\n",
      "4/4 [==============================] - 0s 16ms/step - loss: 3.8994 - petal_length_output_loss: 2.5681 - petal_width_output_loss: 0.3567 - species_output_loss: 0.9746 - val_loss: 6.5874 - val_petal_length_output_loss: 4.1340 - val_petal_width_output_loss: 0.6233 - val_species_output_loss: 1.8301\n",
      "Epoch 75/100\n",
      "4/4 [==============================] - 0s 22ms/step - loss: 3.8837 - petal_length_output_loss: 2.5570 - petal_width_output_loss: 0.3539 - species_output_loss: 0.9728 - val_loss: 6.5520 - val_petal_length_output_loss: 4.0867 - val_petal_width_output_loss: 0.6371 - val_species_output_loss: 1.8282\n",
      "Epoch 76/100\n",
      "4/4 [==============================] - 0s 20ms/step - loss: 3.8700 - petal_length_output_loss: 2.5477 - petal_width_output_loss: 0.3508 - species_output_loss: 0.9715 - val_loss: 6.5108 - val_petal_length_output_loss: 4.0394 - val_petal_width_output_loss: 0.6480 - val_species_output_loss: 1.8233\n",
      "Epoch 77/100\n",
      "4/4 [==============================] - 0s 17ms/step - loss: 3.8551 - petal_length_output_loss: 2.5375 - petal_width_output_loss: 0.3480 - species_output_loss: 0.9696 - val_loss: 6.4558 - val_petal_length_output_loss: 3.9835 - val_petal_width_output_loss: 0.6497 - val_species_output_loss: 1.8226\n",
      "Epoch 78/100\n",
      "4/4 [==============================] - 0s 24ms/step - loss: 3.8421 - petal_length_output_loss: 2.5284 - petal_width_output_loss: 0.3459 - species_output_loss: 0.9679 - val_loss: 6.4049 - val_petal_length_output_loss: 3.9314 - val_petal_width_output_loss: 0.6506 - val_species_output_loss: 1.8229\n",
      "Epoch 79/100\n"
     ]
    },
    {
     "name": "stdout",
     "output_type": "stream",
     "text": [
      "4/4 [==============================] - 0s 19ms/step - loss: 3.8299 - petal_length_output_loss: 2.5199 - petal_width_output_loss: 0.3440 - species_output_loss: 0.9659 - val_loss: 6.3507 - val_petal_length_output_loss: 3.8809 - val_petal_width_output_loss: 0.6509 - val_species_output_loss: 1.8189\n",
      "Epoch 80/100\n",
      "4/4 [==============================] - 0s 18ms/step - loss: 3.8155 - petal_length_output_loss: 2.5098 - petal_width_output_loss: 0.3416 - species_output_loss: 0.9642 - val_loss: 6.3218 - val_petal_length_output_loss: 3.8459 - val_petal_width_output_loss: 0.6584 - val_species_output_loss: 1.8174\n",
      "Epoch 81/100\n",
      "4/4 [==============================] - 0s 17ms/step - loss: 3.8023 - petal_length_output_loss: 2.5009 - petal_width_output_loss: 0.3391 - species_output_loss: 0.9624 - val_loss: 6.2915 - val_petal_length_output_loss: 3.8100 - val_petal_width_output_loss: 0.6638 - val_species_output_loss: 1.8177\n",
      "Epoch 82/100\n",
      "4/4 [==============================] - 0s 19ms/step - loss: 3.7912 - petal_length_output_loss: 2.4932 - petal_width_output_loss: 0.3372 - species_output_loss: 0.9608 - val_loss: 6.2483 - val_petal_length_output_loss: 3.7680 - val_petal_width_output_loss: 0.6649 - val_species_output_loss: 1.8155\n",
      "Epoch 83/100\n",
      "4/4 [==============================] - 0s 20ms/step - loss: 3.7805 - petal_length_output_loss: 2.4855 - petal_width_output_loss: 0.3354 - species_output_loss: 0.9596 - val_loss: 6.2288 - val_petal_length_output_loss: 3.7410 - val_petal_width_output_loss: 0.6723 - val_species_output_loss: 1.8155\n",
      "Epoch 84/100\n",
      "4/4 [==============================] - 0s 18ms/step - loss: 3.7693 - petal_length_output_loss: 2.4782 - petal_width_output_loss: 0.3333 - species_output_loss: 0.9577 - val_loss: 6.1791 - val_petal_length_output_loss: 3.6974 - val_petal_width_output_loss: 0.6695 - val_species_output_loss: 1.8121\n",
      "Epoch 85/100\n",
      "4/4 [==============================] - 0s 21ms/step - loss: 3.7548 - petal_length_output_loss: 2.4681 - petal_width_output_loss: 0.3309 - species_output_loss: 0.9558 - val_loss: 6.1757 - val_petal_length_output_loss: 3.6842 - val_petal_width_output_loss: 0.6810 - val_species_output_loss: 1.8105\n",
      "Epoch 86/100\n",
      "4/4 [==============================] - 0s 15ms/step - loss: 3.7433 - petal_length_output_loss: 2.4605 - petal_width_output_loss: 0.3285 - species_output_loss: 0.9544 - val_loss: 6.1565 - val_petal_length_output_loss: 3.6617 - val_petal_width_output_loss: 0.6873 - val_species_output_loss: 1.8075\n",
      "Epoch 87/100\n",
      "4/4 [==============================] - 0s 22ms/step - loss: 3.7318 - petal_length_output_loss: 2.4528 - petal_width_output_loss: 0.3264 - species_output_loss: 0.9526 - val_loss: 6.1239 - val_petal_length_output_loss: 3.6306 - val_petal_width_output_loss: 0.6881 - val_species_output_loss: 1.8052\n",
      "Epoch 88/100\n",
      "4/4 [==============================] - 0s 21ms/step - loss: 3.7213 - petal_length_output_loss: 2.4452 - petal_width_output_loss: 0.3249 - species_output_loss: 0.9512 - val_loss: 6.1057 - val_petal_length_output_loss: 3.6106 - val_petal_width_output_loss: 0.6919 - val_species_output_loss: 1.8032\n",
      "Epoch 89/100\n",
      "4/4 [==============================] - 0s 22ms/step - loss: 3.7095 - petal_length_output_loss: 2.4372 - petal_width_output_loss: 0.3228 - species_output_loss: 0.9496 - val_loss: 6.0569 - val_petal_length_output_loss: 3.5703 - val_petal_width_output_loss: 0.6827 - val_species_output_loss: 1.8040\n",
      "Epoch 90/100\n",
      "4/4 [==============================] - 0s 21ms/step - loss: 3.6981 - petal_length_output_loss: 2.4294 - petal_width_output_loss: 0.3211 - species_output_loss: 0.9476 - val_loss: 6.0325 - val_petal_length_output_loss: 3.5462 - val_petal_width_output_loss: 0.6827 - val_species_output_loss: 1.8036\n",
      "Epoch 91/100\n",
      "4/4 [==============================] - 0s 18ms/step - loss: 3.6869 - petal_length_output_loss: 2.4216 - petal_width_output_loss: 0.3192 - species_output_loss: 0.9461 - val_loss: 6.0318 - val_petal_length_output_loss: 3.5386 - val_petal_width_output_loss: 0.6910 - val_species_output_loss: 1.8022\n",
      "Epoch 92/100\n",
      "4/4 [==============================] - 0s 20ms/step - loss: 3.6760 - petal_length_output_loss: 2.4140 - petal_width_output_loss: 0.3173 - species_output_loss: 0.9446 - val_loss: 6.0381 - val_petal_length_output_loss: 3.5377 - val_petal_width_output_loss: 0.7005 - val_species_output_loss: 1.7999\n",
      "Epoch 93/100\n",
      "4/4 [==============================] - 0s 21ms/step - loss: 3.6641 - petal_length_output_loss: 2.4060 - petal_width_output_loss: 0.3152 - species_output_loss: 0.9429 - val_loss: 6.0136 - val_petal_length_output_loss: 3.5172 - val_petal_width_output_loss: 0.6997 - val_species_output_loss: 1.7967\n",
      "Epoch 94/100\n",
      "4/4 [==============================] - 0s 26ms/step - loss: 3.6533 - petal_length_output_loss: 2.3985 - petal_width_output_loss: 0.3134 - species_output_loss: 0.9414 - val_loss: 5.9775 - val_petal_length_output_loss: 3.4890 - val_petal_width_output_loss: 0.6919 - val_species_output_loss: 1.7966\n",
      "Epoch 95/100\n",
      "4/4 [==============================] - 0s 18ms/step - loss: 3.6412 - petal_length_output_loss: 2.3902 - petal_width_output_loss: 0.3115 - species_output_loss: 0.9394 - val_loss: 5.9567 - val_petal_length_output_loss: 3.4714 - val_petal_width_output_loss: 0.6889 - val_species_output_loss: 1.7964\n",
      "Epoch 96/100\n",
      "4/4 [==============================] - 0s 17ms/step - loss: 3.6301 - petal_length_output_loss: 2.3828 - petal_width_output_loss: 0.3097 - species_output_loss: 0.9376 - val_loss: 5.9367 - val_petal_length_output_loss: 3.4559 - val_petal_width_output_loss: 0.6882 - val_species_output_loss: 1.7926\n",
      "Epoch 97/100\n",
      "4/4 [==============================] - 0s 18ms/step - loss: 3.6194 - petal_length_output_loss: 2.3753 - petal_width_output_loss: 0.3080 - species_output_loss: 0.9361 - val_loss: 5.9118 - val_petal_length_output_loss: 3.4373 - val_petal_width_output_loss: 0.6845 - val_species_output_loss: 1.7900\n",
      "Epoch 98/100\n",
      "4/4 [==============================] - 0s 26ms/step - loss: 3.6069 - petal_length_output_loss: 2.3669 - petal_width_output_loss: 0.3059 - species_output_loss: 0.9342 - val_loss: 5.9271 - val_petal_length_output_loss: 3.4444 - val_petal_width_output_loss: 0.6953 - val_species_output_loss: 1.7873\n",
      "Epoch 99/100\n",
      "4/4 [==============================] - 0s 19ms/step - loss: 3.5972 - petal_length_output_loss: 2.3599 - petal_width_output_loss: 0.3043 - species_output_loss: 0.9329 - val_loss: 5.9550 - val_petal_length_output_loss: 3.4612 - val_petal_width_output_loss: 0.7071 - val_species_output_loss: 1.7867\n",
      "Epoch 100/100\n",
      "4/4 [==============================] - 0s 19ms/step - loss: 3.5857 - petal_length_output_loss: 2.3520 - petal_width_output_loss: 0.3025 - species_output_loss: 0.9312 - val_loss: 5.9203 - val_petal_length_output_loss: 3.4391 - val_petal_width_output_loss: 0.6980 - val_species_output_loss: 1.7831\n"
     ]
    }
   ],
   "source": [
    "hist = model.fit(X, \n",
    "                [y1, y2, y3],  # y가 여러개이면 리스트로 묶어준다.\n",
    "                epochs=100,\n",
    "                validation_split=0.2 \n",
    "                )"
   ]
  },
  {
   "cell_type": "code",
   "execution_count": null,
   "metadata": {},
   "outputs": [],
   "source": [
    "loss: 35.6906 - \n",
    "    petal_length_output_loss: 31.9710 - petal_width_output_loss: 2.5700 - species_output_loss: 1.1496 \n",
    "                \n",
    "- val_loss: 67.1428 - val_petal_length_output_loss: 59.6820 - val_petal_width_output_loss: 6.0121 - val_species_output_loss: 1.4487"
   ]
  },
  {
   "cell_type": "code",
   "execution_count": 19,
   "metadata": {
    "ExecuteTime": {
     "end_time": "2023-03-03T01:44:45.910214Z",
     "start_time": "2023-03-03T01:44:45.891974Z"
    }
   },
   "outputs": [
    {
     "data": {
      "text/plain": [
       "35.690599999999996"
      ]
     },
     "execution_count": 19,
     "metadata": {},
     "output_type": "execute_result"
    }
   ],
   "source": [
    "loss: 3.5857 - petal_length_output_loss: 2.3520 - petal_width_output_loss: 0.3025 - species_output_loss: 0.9312 \n",
    "\n",
    "- val_loss: 5.9203 - val_petal_length_output_loss: 3.4391 - val_petal_width_output_loss: 0.6980 - val_species_output_loss: 1.7831"
   ]
  },
  {
   "cell_type": "markdown",
   "metadata": {
    "slideshow": {
     "slide_type": "slide"
    }
   },
   "source": [
    "##### 결과 시각화"
   ]
  },
  {
   "cell_type": "code",
   "execution_count": 20,
   "metadata": {
    "ExecuteTime": {
     "end_time": "2023-03-03T01:46:31.774331Z",
     "start_time": "2023-03-03T01:46:31.756843Z"
    }
   },
   "outputs": [
    {
     "data": {
      "text/plain": [
       "dict_keys(['loss', 'petal_length_output_loss', 'petal_width_output_loss', 'species_output_loss', 'val_loss', 'val_petal_length_output_loss', 'val_petal_width_output_loss', 'val_species_output_loss'])"
      ]
     },
     "execution_count": 20,
     "metadata": {},
     "output_type": "execute_result"
    }
   ],
   "source": [
    "hist.history.keys()"
   ]
  },
  {
   "cell_type": "markdown",
   "metadata": {
    "slideshow": {
     "slide_type": "fragment"
    }
   },
   "source": [
    "##### 새로운 데이터 추론"
   ]
  },
  {
   "cell_type": "code",
   "execution_count": 22,
   "metadata": {
    "ExecuteTime": {
     "end_time": "2023-03-03T01:47:37.884200Z",
     "start_time": "2023-03-03T01:47:37.682906Z"
    }
   },
   "outputs": [
    {
     "name": "stdout",
     "output_type": "stream",
     "text": [
      "1/1 [==============================] - 0s 120ms/step\n"
     ]
    },
    {
     "data": {
      "text/plain": [
       "[array([[3.2212229],\n",
       "        [3.015572 ],\n",
       "        [2.9931738]], dtype=float32),\n",
       " array([[0.8272146 ],\n",
       "        [0.81356126],\n",
       "        [0.7508793 ]], dtype=float32),\n",
       " array([[0.49979004, 0.33287263, 0.16733734],\n",
       "        [0.45438993, 0.36624095, 0.17936915],\n",
       "        [0.4856848 , 0.3386921 , 0.1756231 ]], dtype=float32)]"
      ]
     },
     "execution_count": 22,
     "metadata": {},
     "output_type": "execute_result"
    }
   ],
   "source": [
    "new_x = X[:3]\n",
    "pred = model.predict(new_x)\n",
    "pred  # 세 layer의 출력결과를 리스트로 묶어서 출력."
   ]
  },
  {
   "cell_type": "code",
   "execution_count": 26,
   "metadata": {
    "ExecuteTime": {
     "end_time": "2023-03-03T01:50:35.803043Z",
     "start_time": "2023-03-03T01:50:35.780314Z"
    }
   },
   "outputs": [
    {
     "name": "stdout",
     "output_type": "stream",
     "text": [
      "[3.2212229] [0.8272146] [0.49979004 0.33287263 0.16733734] 0\n",
      "[3.015572] [0.81356126] [0.45438993 0.36624095 0.17936915] 0\n",
      "[2.9931738] [0.7508793] [0.4856848 0.3386921 0.1756231] 0\n"
     ]
    }
   ],
   "source": [
    "for pl, pw, s in zip(pred[0], pred[1], pred[2]):\n",
    "    print(pl, pw, s, s.argmax(-1))"
   ]
  },
  {
   "cell_type": "code",
   "execution_count": 27,
   "metadata": {
    "ExecuteTime": {
     "end_time": "2023-03-03T01:51:15.087061Z",
     "start_time": "2023-03-03T01:51:15.067612Z"
    }
   },
   "outputs": [
    {
     "data": {
      "text/plain": [
       "array([0, 0, 0])"
      ]
     },
     "execution_count": 27,
     "metadata": {},
     "output_type": "execute_result"
    }
   ],
   "source": [
    "y[:3]"
   ]
  },
  {
   "cell_type": "code",
   "execution_count": null,
   "metadata": {},
   "outputs": [],
   "source": []
  },
  {
   "cell_type": "markdown",
   "metadata": {
    "slideshow": {
     "slide_type": "slide"
    }
   },
   "source": [
    "## 다중 입력 모델\n",
    "- 가정 \n",
    "    - IRIS 꽃 데이터 + 꽃의 사진을 입력해서 꽃의 종류를 예측한다.\n",
    "- X: 꽃 데이터, 꽃 사진\n",
    "- y: 꽃 종류"
   ]
  },
  {
   "cell_type": "markdown",
   "metadata": {
    "slideshow": {
     "slide_type": "fragment"
    }
   },
   "source": [
    "##### 데이터 로드"
   ]
  },
  {
   "cell_type": "code",
   "execution_count": 31,
   "metadata": {
    "ExecuteTime": {
     "end_time": "2023-03-03T02:16:20.859486Z",
     "start_time": "2023-03-03T02:16:20.839983Z"
    },
    "slideshow": {
     "slide_type": "fragment"
    }
   },
   "outputs": [
    {
     "data": {
      "text/plain": [
       "((150, 4), (150,))"
      ]
     },
     "execution_count": 31,
     "metadata": {},
     "output_type": "execute_result"
    }
   ],
   "source": [
    "X, y = load_iris(return_X_y=True)\n",
    "X.shape, y.shape"
   ]
  },
  {
   "cell_type": "code",
   "execution_count": 36,
   "metadata": {
    "ExecuteTime": {
     "end_time": "2023-03-03T02:32:14.009534Z",
     "start_time": "2023-03-03T02:32:13.732146Z"
    },
    "slideshow": {
     "slide_type": "fragment"
    }
   },
   "outputs": [
    {
     "data": {
      "text/plain": [
       "((60000, 28, 28), (150, 28, 28))"
      ]
     },
     "execution_count": 36,
     "metadata": {},
     "output_type": "execute_result"
    }
   ],
   "source": [
    "(X_train, _), (_, _) = keras.datasets.mnist.load_data()\n",
    "X_img = X_train[:150]\n",
    "X_train.shape, X_img.shape"
   ]
  },
  {
   "cell_type": "markdown",
   "metadata": {
    "slideshow": {
     "slide_type": "slide"
    }
   },
   "source": [
    "##### 모델생성, 컴파일"
   ]
  },
  {
   "cell_type": "code",
   "execution_count": 37,
   "metadata": {
    "ExecuteTime": {
     "end_time": "2023-03-03T02:32:21.978910Z",
     "start_time": "2023-03-03T02:32:21.830413Z"
    }
   },
   "outputs": [],
   "source": [
    "# table 데이터와 영상데이터 두개를 입력으로 받는 모델.\n",
    "# table 데이터는 Dense Layer를, 영상데이터는 Conv layer를 이용해 Feature Extraction을 처리.\n",
    "# 추출된 두가지 특징을 합쳐서 품종을 추론하는 모델.\n",
    "\n",
    "iris_info_tensor = layers.Input(shape=(4, ))\n",
    "x1 = layers.Dense(units=32, activation='relu')(iris_info_tensor)\n",
    "x1 = layers.Dense(units=16, activation='relu')(x1)\n",
    "\n",
    "iris_img_tensor = layers.Input(shape=(28, 28, 1))\n",
    "x2 = layers.Conv2D(filters=32, kernel_size=3, padding='same', activation='relu')(iris_img_tensor)\n",
    "x2 = layers.Conv2D(filters=32, kernel_size=3, padding='same', activation='relu')(x2)\n",
    "x2 = layers.MaxPooling2D(padding='same')(x2)\n",
    "\n",
    "x2 = layers.Conv2D(filters=64, kernel_size=3, padding='same', activation='relu')(x2)\n",
    "x2 = layers.Conv2D(filters=64, kernel_size=3, padding='same', activation='relu')(x2)\n",
    "x2 = layers.MaxPooling2D(padding='same')(x2)\n",
    "x2 = layers.Flatten()(x2)\n",
    "\n",
    "# x1과 x2를 합치기 -> 둘다 1차원 배열. ===> info의 특징과 image의 특징을 합친다.\n",
    "x3 = layers.Concatenate()([x1, x2])  # layers.concatenate([x1, x2])\n",
    "\n",
    "# outputlayer\n",
    "output_tensor = layers.Dense(units=3, activation='softmax')(x3)\n",
    "\n",
    "# 모델 생성\n",
    "model2 = models.Model([iris_info_tensor, iris_img_tensor],  output_tensor)\n",
    "\n",
    "model2.compile(optimizer='adam', loss='sparse_categorical_crossentropy', metrics=['accuracy'])"
   ]
  },
  {
   "cell_type": "code",
   "execution_count": 38,
   "metadata": {
    "ExecuteTime": {
     "end_time": "2023-03-03T02:32:28.622307Z",
     "start_time": "2023-03-03T02:32:28.613453Z"
    }
   },
   "outputs": [
    {
     "data": {
      "text/plain": [
       "(150, 28, 28)"
      ]
     },
     "execution_count": 38,
     "metadata": {},
     "output_type": "execute_result"
    }
   ],
   "source": [
    "X_img.shape"
   ]
  },
  {
   "cell_type": "code",
   "execution_count": 40,
   "metadata": {
    "ExecuteTime": {
     "end_time": "2023-03-03T02:33:05.781976Z",
     "start_time": "2023-03-03T02:33:05.775356Z"
    }
   },
   "outputs": [
    {
     "data": {
      "text/plain": [
       "(150, 28, 28, 1)"
      ]
     },
     "execution_count": 40,
     "metadata": {},
     "output_type": "execute_result"
    }
   ],
   "source": [
    "iris_img = X_img[..., np.newaxis]\n",
    "iris_img.shape"
   ]
  },
  {
   "cell_type": "code",
   "execution_count": 41,
   "metadata": {
    "ExecuteTime": {
     "end_time": "2023-03-03T02:34:25.787548Z",
     "start_time": "2023-03-03T02:34:23.381112Z"
    }
   },
   "outputs": [
    {
     "name": "stdout",
     "output_type": "stream",
     "text": [
      "Epoch 1/3\n",
      "4/4 [==============================] - 2s 143ms/step - loss: 16.3575 - accuracy: 0.2583 - val_loss: 6.0529 - val_accuracy: 0.0333\n",
      "Epoch 2/3\n",
      "4/4 [==============================] - 0s 89ms/step - loss: 3.6775 - accuracy: 0.4250 - val_loss: 10.7340 - val_accuracy: 0.0000e+00\n",
      "Epoch 3/3\n",
      "4/4 [==============================] - 0s 95ms/step - loss: 2.3481 - accuracy: 0.5000 - val_loss: 3.3905 - val_accuracy: 0.0000e+00\n"
     ]
    }
   ],
   "source": [
    "hist= model2.fit([X, iris_img], \n",
    "                  y, \n",
    "                  epochs=3, \n",
    "                  validation_split=0.2)"
   ]
  },
  {
   "cell_type": "code",
   "execution_count": 42,
   "metadata": {
    "ExecuteTime": {
     "end_time": "2023-03-03T02:36:21.232847Z",
     "start_time": "2023-03-03T02:36:20.748697Z"
    }
   },
   "outputs": [
    {
     "data": {
      "image/png": "[encoded data removed]",
      "text/plain": [
       "<IPython.core.display.Image object>"
      ]
     },
     "execution_count": 42,
     "metadata": {},
     "output_type": "execute_result"
    }
   ],
   "source": [
    "keras.utils.plot_model(model2, show_shapes=True)"
   ]
  },
  {
   "cell_type": "markdown",
   "metadata": {},
   "source": [
    "## Subclass 방식\n",
    "- 모델을 class로 구현\n",
    "- \\_\\_init\\_\\_() 메소드에서 모델에 필요한 자원들(layer들)을 생성\n",
    "- call() 메소드에서 모델 구조 정의"
   ]
  },
  {
   "cell_type": "code",
   "execution_count": 43,
   "metadata": {
    "ExecuteTime": {
     "end_time": "2023-03-03T02:42:41.000293Z",
     "start_time": "2023-03-03T02:42:40.983946Z"
    }
   },
   "outputs": [],
   "source": [
    "import tensorflow as tf\n",
    "from tensorflow import keras\n",
    "from tensorflow.keras import layers, models"
   ]
  },
  {
   "cell_type": "code",
   "execution_count": 44,
   "metadata": {
    "ExecuteTime": {
     "end_time": "2023-03-03T02:44:34.613656Z",
     "start_time": "2023-03-03T02:44:34.240024Z"
    }
   },
   "outputs": [
    {
     "data": {
      "text/plain": [
       "((60000, 28, 28, 1), (10000, 28, 28, 1))"
      ]
     },
     "execution_count": 44,
     "metadata": {},
     "output_type": "execute_result"
    }
   ],
   "source": [
    "(X_train, y_train), (X_test, y_test) = keras.datasets.mnist.load_data()\n",
    "X_train = X_train.astype('float32')/255\n",
    "X_test = X_test.astype('float32')/255\n",
    "\n",
    "X_train = X_train[..., np.newaxis]\n",
    "X_test = X_test[..., np.newaxis]\n",
    "X_train.shape, X_test.shape"
   ]
  },
  {
   "cell_type": "code",
   "execution_count": 51,
   "metadata": {
    "ExecuteTime": {
     "end_time": "2023-03-03T02:58:23.686554Z",
     "start_time": "2023-03-03T02:58:23.671302Z"
    }
   },
   "outputs": [],
   "source": [
    "class MnistModel(models.Model):\n",
    "    \n",
    "    def __init__(self):\n",
    "        super().__init__()\n",
    "        self.conv_block1 = keras.Sequential([\n",
    "            layers.Conv2D(filters=32, kernel_size=3, padding='same', activation='relu'),\n",
    "            layers.Conv2D(filters=32, kernel_size=3, padding='same', activation='relu'),\n",
    "            layers.MaxPooling2D(padding='same')\n",
    "        ])\n",
    "        \n",
    "        self.conv_block2 = keras.Sequential([\n",
    "            layers.Conv2D(filters=64, kernel_size=3, padding='same', activation='relu'),\n",
    "            layers.Conv2D(filters=64, kernel_size=3, padding='same', activation='relu'),\n",
    "            layers.MaxPooling2D(padding='same')\n",
    "        ])\n",
    "        \n",
    "        self.flatten = layers.Flatten()\n",
    "        self.output_layer = layers.Dense(units=10, activation='softmax')        \n",
    "        \n",
    "        \n",
    "    def call(self, x):  \n",
    "        # input data를 받아서 forward propagation을 처리. 그 추론 결과를 반환\n",
    "        x = self.conv_block1(x)\n",
    "        x = self.conv_block2(x)\n",
    "        x = self.flatten(x)\n",
    "        output_tensor = self.output_layer(x)\n",
    "        return output_tensor\n",
    "        "
   ]
  },
  {
   "cell_type": "code",
   "execution_count": 52,
   "metadata": {
    "ExecuteTime": {
     "end_time": "2023-03-03T03:03:15.372130Z",
     "start_time": "2023-03-03T02:58:28.622040Z"
    }
   },
   "outputs": [
    {
     "name": "stdout",
     "output_type": "stream",
     "text": [
      "Epoch 1/3\n",
      "1407/1407 [==============================] - 106s 75ms/step - loss: 0.1373 - val_loss: 0.0573\n",
      "Epoch 2/3\n",
      "1407/1407 [==============================] - 90s 64ms/step - loss: 0.0439 - val_loss: 0.0423\n",
      "Epoch 3/3\n",
      "1407/1407 [==============================] - 90s 64ms/step - loss: 0.0316 - val_loss: 0.0373\n"
     ]
    }
   ],
   "source": [
    "# 모델생성\n",
    "model = MnistModel()\n",
    "\n",
    "# 컴파일\n",
    "model.compile(optimizer='adam', loss='sparse_categorical_crossentropy')\n",
    "# 학습\n",
    "hist = model.fit(X_train, y_train, epochs=3, validation_split=0.25)"
   ]
  },
  {
   "cell_type": "code",
   "execution_count": 54,
   "metadata": {
    "ExecuteTime": {
     "end_time": "2023-03-03T03:13:21.529886Z",
     "start_time": "2023-03-03T03:13:21.518780Z"
    }
   },
   "outputs": [
    {
     "data": {
      "text/plain": [
       "1406.25"
      ]
     },
     "execution_count": 54,
     "metadata": {},
     "output_type": "execute_result"
    }
   ],
   "source": [
    "60000*0.75/32"
   ]
  },
  {
   "cell_type": "code",
   "execution_count": null,
   "metadata": {},
   "outputs": [],
   "source": []
  },
  {
   "cell_type": "code",
   "execution_count": null,
   "metadata": {},
   "outputs": [],
   "source": []
  },
  {
   "cell_type": "code",
   "execution_count": null,
   "metadata": {},
   "outputs": [],
   "source": []
  },
  {
   "cell_type": "code",
   "execution_count": null,
   "metadata": {},
   "outputs": [],
   "source": []
  }
 ],
 "metadata": {
  "kernelspec": {
   "display_name": "Python 3 (ipykernel)",
   "language": "python",
   "name": "python3"
  },
  "language_info": {
   "codemirror_mode": {
    "name": "ipython",
    "version": 3
   },
   "file_extension": ".py",
   "mimetype": "text/x-python",
   "name": "python",
   "nbconvert_exporter": "python",
   "pygments_lexer": "ipython3",
   "version": "3.9.16"
  },
  "toc": {
   "base_numbering": 1,
   "nav_menu": {},
   "number_sections": true,
   "sideBar": true,
   "skip_h1_title": false,
   "title_cell": "Table of Contents",
   "title_sidebar": "Contents",
   "toc_cell": false,
   "toc_position": {},
   "toc_section_display": true,
   "toc_window_display": false
  },
  "varInspector": {
   "cols": {
    "lenName": 16,
    "lenType": 16,
    "lenVar": 40
   },
   "kernels_config": {
    "python": {
     "delete_cmd_postfix": "",
     "delete_cmd_prefix": "del ",
     "library": "var_list.py",
     "varRefreshCmd": "print(var_dic_list())"
    },
    "r": {
     "delete_cmd_postfix": ") ",
     "delete_cmd_prefix": "rm(",
     "library": "var_list.r",
     "varRefreshCmd": "cat(var_dic_list()) "
    }
   },
   "types_to_exclude": [
    "module",
    "function",
    "builtin_function_or_method",
    "instance",
    "_Feature"
   ],
   "window_display": false
  }
 },
 "nbformat": 4,
 "nbformat_minor": 4
}
